{
 "cells": [
  {
   "cell_type": "code",
   "execution_count": 1,
   "metadata": {},
   "outputs": [
    {
     "name": "stdout",
     "output_type": "stream",
     "text": [
      "[(: (, symbol: 1, |: |, symbol: 2, |: |, symbol: 3, |: |, symbol: 4, |: |, symbol: 5, |: |, symbol: 6, |: |, symbol: 7, |: |, symbol: 8, |: |, symbol: 9, ): ), (: (, symbol: 0, |: |, symbol: 1, |: |, symbol: 2, |: |, symbol: 3, |: |, symbol: 4, |: |, symbol: 5, |: |, symbol: 6, |: |, symbol: 7, |: |, symbol: 8, |: |, symbol: 9, ): ), *: *, $: $]\n",
      "[A -> symbol, F -> A, T -> F, E -> T, A -> symbol, F -> A, T -> F, E -> E | T, A -> symbol, F -> A, T -> F, E -> E | T, A -> symbol, F -> A, T -> F, E -> E | T, A -> symbol, F -> A, T -> F, E -> E | T, A -> symbol, F -> A, T -> F, E -> E | T, A -> symbol, F -> A, T -> F, E -> E | T, A -> symbol, F -> A, T -> F, E -> E | T, A -> symbol, F -> A, T -> F, E -> E | T, A -> ( E ), F -> A, T -> F, A -> symbol, F -> A, T -> F, E -> T, A -> symbol, F -> A, T -> F, E -> E | T, A -> symbol, F -> A, T -> F, E -> E | T, A -> symbol, F -> A, T -> F, E -> E | T, A -> symbol, F -> A, T -> F, E -> E | T, A -> symbol, F -> A, T -> F, E -> E | T, A -> symbol, F -> A, T -> F, E -> E | T, A -> symbol, F -> A, T -> F, E -> E | T, A -> symbol, F -> A, T -> F, E -> E | T, A -> symbol, F -> A, T -> F, E -> E | T, A -> ( E ), F -> A *, T -> T F, E -> T]\n",
      "['SHIFT', 'SHIFT', 'REDUCE', 'REDUCE', 'REDUCE', 'REDUCE', 'SHIFT', 'SHIFT', 'REDUCE', 'REDUCE', 'REDUCE', 'REDUCE', 'SHIFT', 'SHIFT', 'REDUCE', 'REDUCE', 'REDUCE', 'REDUCE', 'SHIFT', 'SHIFT', 'REDUCE', 'REDUCE', 'REDUCE', 'REDUCE', 'SHIFT', 'SHIFT', 'REDUCE', 'REDUCE', 'REDUCE', 'REDUCE', 'SHIFT', 'SHIFT', 'REDUCE', 'REDUCE', 'REDUCE', 'REDUCE', 'SHIFT', 'SHIFT', 'REDUCE', 'REDUCE', 'REDUCE', 'REDUCE', 'SHIFT', 'SHIFT', 'REDUCE', 'REDUCE', 'REDUCE', 'REDUCE', 'SHIFT', 'SHIFT', 'REDUCE', 'REDUCE', 'REDUCE', 'REDUCE', 'SHIFT', 'REDUCE', 'REDUCE', 'REDUCE', 'SHIFT', 'SHIFT', 'REDUCE', 'REDUCE', 'REDUCE', 'REDUCE', 'SHIFT', 'SHIFT', 'REDUCE', 'REDUCE', 'REDUCE', 'REDUCE', 'SHIFT', 'SHIFT', 'REDUCE', 'REDUCE', 'REDUCE', 'REDUCE', 'SHIFT', 'SHIFT', 'REDUCE', 'REDUCE', 'REDUCE', 'REDUCE', 'SHIFT', 'SHIFT', 'REDUCE', 'REDUCE', 'REDUCE', 'REDUCE', 'SHIFT', 'SHIFT', 'REDUCE', 'REDUCE', 'REDUCE', 'REDUCE', 'SHIFT', 'SHIFT', 'REDUCE', 'REDUCE', 'REDUCE', 'REDUCE', 'SHIFT', 'SHIFT', 'REDUCE', 'REDUCE', 'REDUCE', 'REDUCE', 'SHIFT', 'SHIFT', 'REDUCE', 'REDUCE', 'REDUCE', 'REDUCE', 'SHIFT', 'SHIFT', 'REDUCE', 'REDUCE', 'REDUCE', 'REDUCE', 'SHIFT', 'REDUCE', 'SHIFT', 'REDUCE', 'REDUCE', 'REDUCE']\n",
      "<Lexer.regex.ConcatNode object at 0x7e33d853ef30>\n",
      "<Lexer.nfa_dfa.NFA object at 0x7e33d853f4a0>\n",
      "<Lexer.nfa_dfa.DFA object at 0x7e33d853e300>\n",
      "[symbol: f, symbol: o, symbol: r, $: $]\n",
      "[A -> symbol, F -> A, T -> F, A -> symbol, F -> A, T -> T F, A -> symbol, F -> A, T -> T F, E -> T]\n",
      "['SHIFT', 'REDUCE', 'REDUCE', 'REDUCE', 'SHIFT', 'REDUCE', 'REDUCE', 'REDUCE', 'SHIFT', 'REDUCE', 'REDUCE', 'REDUCE', 'REDUCE']\n",
      "<Lexer.regex.ConcatNode object at 0x7e33d853ea20>\n",
      "<Lexer.nfa_dfa.NFA object at 0x7e33d853e660>\n",
      "<Lexer.nfa_dfa.DFA object at 0x7e33d853fe90>\n",
      "[symbol: f, symbol: o, symbol: r, symbol: e, symbol: a, symbol: c, symbol: h, $: $]\n",
      "[A -> symbol, F -> A, T -> F, A -> symbol, F -> A, T -> T F, A -> symbol, F -> A, T -> T F, A -> symbol, F -> A, T -> T F, A -> symbol, F -> A, T -> T F, A -> symbol, F -> A, T -> T F, A -> symbol, F -> A, T -> T F, E -> T]\n",
      "['SHIFT', 'REDUCE', 'REDUCE', 'REDUCE', 'SHIFT', 'REDUCE', 'REDUCE', 'REDUCE', 'SHIFT', 'REDUCE', 'REDUCE', 'REDUCE', 'SHIFT', 'REDUCE', 'REDUCE', 'REDUCE', 'SHIFT', 'REDUCE', 'REDUCE', 'REDUCE', 'SHIFT', 'REDUCE', 'REDUCE', 'REDUCE', 'SHIFT', 'REDUCE', 'REDUCE', 'REDUCE', 'REDUCE']\n",
      "<Lexer.regex.ConcatNode object at 0x7e33d8551730>\n",
      "<Lexer.nfa_dfa.NFA object at 0x7e33d8551520>\n",
      "<Lexer.nfa_dfa.DFA object at 0x7e33d8553da0>\n",
      "[symbol:  , symbol:  , *: *, $: $]\n",
      "[A -> symbol, F -> A, T -> F, A -> symbol, F -> A *, T -> T F, E -> T]\n",
      "['SHIFT', 'REDUCE', 'REDUCE', 'REDUCE', 'SHIFT', 'REDUCE', 'SHIFT', 'REDUCE', 'REDUCE', 'REDUCE']\n",
      "<Lexer.regex.ConcatNode object at 0x7e33d8552a20>\n",
      "<Lexer.nfa_dfa.NFA object at 0x7e33d8552300>\n",
      "<Lexer.nfa_dfa.DFA object at 0x7e33d8553bc0>\n",
      "[(: (, symbol: a, |: |, symbol: b, |: |, symbol: c, |: |, symbol: d, |: |, symbol: e, |: |, symbol: f, |: |, symbol: g, |: |, symbol: h, |: |, symbol: i, |: |, symbol: j, |: |, symbol: k, |: |, symbol: l, |: |, symbol: m, |: |, symbol: n, |: |, symbol: o, |: |, symbol: p, |: |, symbol: q, |: |, symbol: r, |: |, symbol: s, |: |, symbol: t, |: |, symbol: u, |: |, symbol: v, |: |, symbol: w, |: |, symbol: x, |: |, symbol: y, |: |, symbol: z, ): ), (: (, symbol: a, |: |, symbol: b, |: |, symbol: c, |: |, symbol: d, |: |, symbol: e, |: |, symbol: f, |: |, symbol: g, |: |, symbol: h, |: |, symbol: i, |: |, symbol: j, |: |, symbol: k, |: |, symbol: l, |: |, symbol: m, |: |, symbol: n, |: |, symbol: o, |: |, symbol: p, |: |, symbol: q, |: |, symbol: r, |: |, symbol: s, |: |, symbol: t, |: |, symbol: u, |: |, symbol: v, |: |, symbol: w, |: |, symbol: x, |: |, symbol: y, |: |, symbol: z, |: |, symbol: 0, |: |, symbol: 1, |: |, symbol: 2, |: |, symbol: 3, |: |, symbol: 4, |: |, symbol: 5, |: |, symbol: 6, |: |, symbol: 7, |: |, symbol: 8, |: |, symbol: 9, ): ), *: *, $: $]\n",
      "[A -> symbol, F -> A, T -> F, E -> T, A -> symbol, F -> A, T -> F, E -> E | T, A -> symbol, F -> A, T -> F, E -> E | T, A -> symbol, F -> A, T -> F, E -> E | T, A -> symbol, F -> A, T -> F, E -> E | T, A -> symbol, F -> A, T -> F, E -> E | T, A -> symbol, F -> A, T -> F, E -> E | T, A -> symbol, F -> A, T -> F, E -> E | T, A -> symbol, F -> A, T -> F, E -> E | T, A -> symbol, F -> A, T -> F, E -> E | T, A -> symbol, F -> A, T -> F, E -> E | T, A -> symbol, F -> A, T -> F, E -> E | T, A -> symbol, F -> A, T -> F, E -> E | T, A -> symbol, F -> A, T -> F, E -> E | T, A -> symbol, F -> A, T -> F, E -> E | T, A -> symbol, F -> A, T -> F, E -> E | T, A -> symbol, F -> A, T -> F, E -> E | T, A -> symbol, F -> A, T -> F, E -> E | T, A -> symbol, F -> A, T -> F, E -> E | T, A -> symbol, F -> A, T -> F, E -> E | T, A -> symbol, F -> A, T -> F, E -> E | T, A -> symbol, F -> A, T -> F, E -> E | T, A -> symbol, F -> A, T -> F, E -> E | T, A -> symbol, F -> A, T -> F, E -> E | T, A -> symbol, F -> A, T -> F, E -> E | T, A -> symbol, F -> A, T -> F, E -> E | T, A -> ( E ), F -> A, T -> F, A -> symbol, F -> A, T -> F, E -> T, A -> symbol, F -> A, T -> F, E -> E | T, A -> symbol, F -> A, T -> F, E -> E | T, A -> symbol, F -> A, T -> F, E -> E | T, A -> symbol, F -> A, T -> F, E -> E | T, A -> symbol, F -> A, T -> F, E -> E | T, A -> symbol, F -> A, T -> F, E -> E | T, A -> symbol, F -> A, T -> F, E -> E | T, A -> symbol, F -> A, T -> F, E -> E | T, A -> symbol, F -> A, T -> F, E -> E | T, A -> symbol, F -> A, T -> F, E -> E | T, A -> symbol, F -> A, T -> F, E -> E | T, A -> symbol, F -> A, T -> F, E -> E | T, A -> symbol, F -> A, T -> F, E -> E | T, A -> symbol, F -> A, T -> F, E -> E | T, A -> symbol, F -> A, T -> F, E -> E | T, A -> symbol, F -> A, T -> F, E -> E | T, A -> symbol, F -> A, T -> F, E -> E | T, A -> symbol, F -> A, T -> F, E -> E | T, A -> symbol, F -> A, T -> F, E -> E | T, A -> symbol, F -> A, T -> F, E -> E | T, A -> symbol, F -> A, T -> F, E -> E | T, A -> symbol, F -> A, T -> F, E -> E | T, A -> symbol, F -> A, T -> F, E -> E | T, A -> symbol, F -> A, T -> F, E -> E | T, A -> symbol, F -> A, T -> F, E -> E | T, A -> symbol, F -> A, T -> F, E -> E | T, A -> symbol, F -> A, T -> F, E -> E | T, A -> symbol, F -> A, T -> F, E -> E | T, A -> symbol, F -> A, T -> F, E -> E | T, A -> symbol, F -> A, T -> F, E -> E | T, A -> symbol, F -> A, T -> F, E -> E | T, A -> symbol, F -> A, T -> F, E -> E | T, A -> symbol, F -> A, T -> F, E -> E | T, A -> symbol, F -> A, T -> F, E -> E | T, A -> symbol, F -> A, T -> F, E -> E | T, A -> ( E ), F -> A *, T -> T F, E -> T]\n",
      "['SHIFT', 'SHIFT', 'REDUCE', 'REDUCE', 'REDUCE', 'REDUCE', 'SHIFT', 'SHIFT', 'REDUCE', 'REDUCE', 'REDUCE', 'REDUCE', 'SHIFT', 'SHIFT', 'REDUCE', 'REDUCE', 'REDUCE', 'REDUCE', 'SHIFT', 'SHIFT', 'REDUCE', 'REDUCE', 'REDUCE', 'REDUCE', 'SHIFT', 'SHIFT', 'REDUCE', 'REDUCE', 'REDUCE', 'REDUCE', 'SHIFT', 'SHIFT', 'REDUCE', 'REDUCE', 'REDUCE', 'REDUCE', 'SHIFT', 'SHIFT', 'REDUCE', 'REDUCE', 'REDUCE', 'REDUCE', 'SHIFT', 'SHIFT', 'REDUCE', 'REDUCE', 'REDUCE', 'REDUCE', 'SHIFT', 'SHIFT', 'REDUCE', 'REDUCE', 'REDUCE', 'REDUCE', 'SHIFT', 'SHIFT', 'REDUCE', 'REDUCE', 'REDUCE', 'REDUCE', 'SHIFT', 'SHIFT', 'REDUCE', 'REDUCE', 'REDUCE', 'REDUCE', 'SHIFT', 'SHIFT', 'REDUCE', 'REDUCE', 'REDUCE', 'REDUCE', 'SHIFT', 'SHIFT', 'REDUCE', 'REDUCE', 'REDUCE', 'REDUCE', 'SHIFT', 'SHIFT', 'REDUCE', 'REDUCE', 'REDUCE', 'REDUCE', 'SHIFT', 'SHIFT', 'REDUCE', 'REDUCE', 'REDUCE', 'REDUCE', 'SHIFT', 'SHIFT', 'REDUCE', 'REDUCE', 'REDUCE', 'REDUCE', 'SHIFT', 'SHIFT', 'REDUCE', 'REDUCE', 'REDUCE', 'REDUCE', 'SHIFT', 'SHIFT', 'REDUCE', 'REDUCE', 'REDUCE', 'REDUCE', 'SHIFT', 'SHIFT', 'REDUCE', 'REDUCE', 'REDUCE', 'REDUCE', 'SHIFT', 'SHIFT', 'REDUCE', 'REDUCE', 'REDUCE', 'REDUCE', 'SHIFT', 'SHIFT', 'REDUCE', 'REDUCE', 'REDUCE', 'REDUCE', 'SHIFT', 'SHIFT', 'REDUCE', 'REDUCE', 'REDUCE', 'REDUCE', 'SHIFT', 'SHIFT', 'REDUCE', 'REDUCE', 'REDUCE', 'REDUCE', 'SHIFT', 'SHIFT', 'REDUCE', 'REDUCE', 'REDUCE', 'REDUCE', 'SHIFT', 'SHIFT', 'REDUCE', 'REDUCE', 'REDUCE', 'REDUCE', 'SHIFT', 'SHIFT', 'REDUCE', 'REDUCE', 'REDUCE', 'REDUCE', 'SHIFT', 'REDUCE', 'REDUCE', 'REDUCE', 'SHIFT', 'SHIFT', 'REDUCE', 'REDUCE', 'REDUCE', 'REDUCE', 'SHIFT', 'SHIFT', 'REDUCE', 'REDUCE', 'REDUCE', 'REDUCE', 'SHIFT', 'SHIFT', 'REDUCE', 'REDUCE', 'REDUCE', 'REDUCE', 'SHIFT', 'SHIFT', 'REDUCE', 'REDUCE', 'REDUCE', 'REDUCE', 'SHIFT', 'SHIFT', 'REDUCE', 'REDUCE', 'REDUCE', 'REDUCE', 'SHIFT', 'SHIFT', 'REDUCE', 'REDUCE', 'REDUCE', 'REDUCE', 'SHIFT', 'SHIFT', 'REDUCE', 'REDUCE', 'REDUCE', 'REDUCE', 'SHIFT', 'SHIFT', 'REDUCE', 'REDUCE', 'REDUCE', 'REDUCE', 'SHIFT', 'SHIFT', 'REDUCE', 'REDUCE', 'REDUCE', 'REDUCE', 'SHIFT', 'SHIFT', 'REDUCE', 'REDUCE', 'REDUCE', 'REDUCE', 'SHIFT', 'SHIFT', 'REDUCE', 'REDUCE', 'REDUCE', 'REDUCE', 'SHIFT', 'SHIFT', 'REDUCE', 'REDUCE', 'REDUCE', 'REDUCE', 'SHIFT', 'SHIFT', 'REDUCE', 'REDUCE', 'REDUCE', 'REDUCE', 'SHIFT', 'SHIFT', 'REDUCE', 'REDUCE', 'REDUCE', 'REDUCE', 'SHIFT', 'SHIFT', 'REDUCE', 'REDUCE', 'REDUCE', 'REDUCE', 'SHIFT', 'SHIFT', 'REDUCE', 'REDUCE', 'REDUCE', 'REDUCE', 'SHIFT', 'SHIFT', 'REDUCE', 'REDUCE', 'REDUCE', 'REDUCE', 'SHIFT', 'SHIFT', 'REDUCE', 'REDUCE', 'REDUCE', 'REDUCE', 'SHIFT', 'SHIFT', 'REDUCE', 'REDUCE', 'REDUCE', 'REDUCE', 'SHIFT', 'SHIFT', 'REDUCE', 'REDUCE', 'REDUCE', 'REDUCE', 'SHIFT', 'SHIFT', 'REDUCE', 'REDUCE', 'REDUCE', 'REDUCE', 'SHIFT', 'SHIFT', 'REDUCE', 'REDUCE', 'REDUCE', 'REDUCE', 'SHIFT', 'SHIFT', 'REDUCE', 'REDUCE', 'REDUCE', 'REDUCE', 'SHIFT', 'SHIFT', 'REDUCE', 'REDUCE', 'REDUCE', 'REDUCE', 'SHIFT', 'SHIFT', 'REDUCE', 'REDUCE', 'REDUCE', 'REDUCE', 'SHIFT', 'SHIFT', 'REDUCE', 'REDUCE', 'REDUCE', 'REDUCE', 'SHIFT', 'SHIFT', 'REDUCE', 'REDUCE', 'REDUCE', 'REDUCE', 'SHIFT', 'SHIFT', 'REDUCE', 'REDUCE', 'REDUCE', 'REDUCE', 'SHIFT', 'SHIFT', 'REDUCE', 'REDUCE', 'REDUCE', 'REDUCE', 'SHIFT', 'SHIFT', 'REDUCE', 'REDUCE', 'REDUCE', 'REDUCE', 'SHIFT', 'SHIFT', 'REDUCE', 'REDUCE', 'REDUCE', 'REDUCE', 'SHIFT', 'SHIFT', 'REDUCE', 'REDUCE', 'REDUCE', 'REDUCE', 'SHIFT', 'SHIFT', 'REDUCE', 'REDUCE', 'REDUCE', 'REDUCE', 'SHIFT', 'SHIFT', 'REDUCE', 'REDUCE', 'REDUCE', 'REDUCE', 'SHIFT', 'SHIFT', 'REDUCE', 'REDUCE', 'REDUCE', 'REDUCE', 'SHIFT', 'SHIFT', 'REDUCE', 'REDUCE', 'REDUCE', 'REDUCE', 'SHIFT', 'REDUCE', 'SHIFT', 'REDUCE', 'REDUCE', 'REDUCE']\n",
      "<Lexer.regex.ConcatNode object at 0x7e33d8581f10>\n",
      "<Lexer.nfa_dfa.NFA object at 0x7e33d8582cf0>\n",
      "<Lexer.nfa_dfa.DFA object at 0x7e33d85830b0>\n",
      "[num: 123456789, eof: $]\n",
      "[num: 5465, space:  , for: for, space:  , num: 45, foreach: foreach, space:  , id: fore, eof: $]\n",
      "\n",
      ">>> Tokenizando: \"4forense forforeach for4foreach foreach 4for\"\n",
      "[num: 4, id: forense, space:  , id: forforeach, space:  , id: for4foreach, space:  , foreach: foreach, space:  , num: 4, for: for, eof: $]\n"
     ]
    }
   ],
   "source": [
    "from Lexer.lexer import Lexer\n",
    "\n",
    "\n",
    "\n",
    "nonzero_digits = '|'.join(str(n) for n in range(1,10))\n",
    "letters = '|'.join(chr(n) for n in range(ord('a'),ord('z')+1))\n",
    "\n",
    "\n",
    "lexer = Lexer([\n",
    "    ('num', f'({nonzero_digits})(0|{nonzero_digits})*'),\n",
    "    ('for' , 'for'),\n",
    "    ('foreach' , 'foreach'),\n",
    "    ('space', '  *'),\n",
    "    ('id', f'({letters})({letters}|0|{nonzero_digits})*')\n",
    "], 'eof')\n",
    "\n",
    "text= '123456789'\n",
    "tokens = lexer(text)\n",
    "print(tokens)\n",
    "\n",
    "\n",
    "\n",
    "text = '5465 for 45foreach fore'\n",
    "\n",
    "tokens = lexer(text)\n",
    "\n",
    "print(tokens)\n",
    "assert [t.token_type for t in tokens] == ['num', 'space', 'for', 'space', 'num', 'foreach', 'space', 'id', 'eof']\n",
    "assert [t.lex for t in tokens] == ['5465', ' ', 'for', ' ', '45', 'foreach', ' ', 'fore', '$']\n",
    "\n",
    "text = '4forense forforeach for4foreach foreach 4for'\n",
    "print(f'\\n>>> Tokenizando: \"{text}\"')\n",
    "tokens = lexer(text)\n",
    "print(tokens)\n",
    "assert [t.token_type for t in tokens] == ['num', 'id', 'space', 'id', 'space', 'id', 'space', 'foreach', 'space', 'num', 'for', 'eof']\n",
    "assert [t.lex for t in tokens] == ['4', 'forense', ' ', 'forforeach', ' ', 'for4foreach', ' ', 'foreach', ' ', '4', 'for', '$']"
   ]
  }
 ],
 "metadata": {
  "kernelspec": {
   "display_name": "myenv",
   "language": "python",
   "name": "python3"
  },
  "language_info": {
   "codemirror_mode": {
    "name": "ipython",
    "version": 3
   },
   "file_extension": ".py",
   "mimetype": "text/x-python",
   "name": "python",
   "nbconvert_exporter": "python",
   "pygments_lexer": "ipython3",
   "version": "3.12.3"
  }
 },
 "nbformat": 4,
 "nbformat_minor": 2
}

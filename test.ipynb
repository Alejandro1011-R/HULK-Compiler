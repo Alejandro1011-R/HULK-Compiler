{
 "cells": [
  {
   "cell_type": "code",
   "execution_count": 1,
   "metadata": {},
   "outputs": [
    {
     "name": "stdout",
     "output_type": "stream",
     "text": [
      "[(: (, symbol: 1, |: |, symbol: 2, |: |, symbol: 3, |: |, symbol: 4, |: |, symbol: 5, |: |, symbol: 6, |: |, symbol: 7, |: |, symbol: 8, |: |, symbol: 9, ): ), (: (, symbol: 0, |: |, symbol: 1, |: |, symbol: 2, |: |, symbol: 3, |: |, symbol: 4, |: |, symbol: 5, |: |, symbol: 6, |: |, symbol: 7, |: |, symbol: 8, |: |, symbol: 9, ): ), *: *, $: $]\n",
      "[A -> symbol, F -> A, T -> F, E -> T, A -> symbol, F -> A, T -> F, E -> E | T, A -> symbol, F -> A, T -> F, E -> E | T, A -> symbol, F -> A, T -> F, E -> E | T, A -> symbol, F -> A, T -> F, E -> E | T, A -> symbol, F -> A, T -> F, E -> E | T, A -> symbol, F -> A, T -> F, E -> E | T, A -> symbol, F -> A, T -> F, E -> E | T, A -> symbol, F -> A, T -> F, E -> E | T, A -> ( E ), F -> A, T -> F, A -> symbol, F -> A, T -> F, E -> T, A -> symbol, F -> A, T -> F, E -> E | T, A -> symbol, F -> A, T -> F, E -> E | T, A -> symbol, F -> A, T -> F, E -> E | T, A -> symbol, F -> A, T -> F, E -> E | T, A -> symbol, F -> A, T -> F, E -> E | T, A -> symbol, F -> A, T -> F, E -> E | T, A -> symbol, F -> A, T -> F, E -> E | T, A -> symbol, F -> A, T -> F, E -> E | T, A -> symbol, F -> A, T -> F, E -> E | T, A -> ( E ), F -> A, F -> F *, T -> T F, E -> T]\n",
      "['SHIFT', 'SHIFT', 'REDUCE', 'REDUCE', 'REDUCE', 'REDUCE', 'SHIFT', 'SHIFT', 'REDUCE', 'REDUCE', 'REDUCE', 'REDUCE', 'SHIFT', 'SHIFT', 'REDUCE', 'REDUCE', 'REDUCE', 'REDUCE', 'SHIFT', 'SHIFT', 'REDUCE', 'REDUCE', 'REDUCE', 'REDUCE', 'SHIFT', 'SHIFT', 'REDUCE', 'REDUCE', 'REDUCE', 'REDUCE', 'SHIFT', 'SHIFT', 'REDUCE', 'REDUCE', 'REDUCE', 'REDUCE', 'SHIFT', 'SHIFT', 'REDUCE', 'REDUCE', 'REDUCE', 'REDUCE', 'SHIFT', 'SHIFT', 'REDUCE', 'REDUCE', 'REDUCE', 'REDUCE', 'SHIFT', 'SHIFT', 'REDUCE', 'REDUCE', 'REDUCE', 'REDUCE', 'SHIFT', 'REDUCE', 'REDUCE', 'REDUCE', 'SHIFT', 'SHIFT', 'REDUCE', 'REDUCE', 'REDUCE', 'REDUCE', 'SHIFT', 'SHIFT', 'REDUCE', 'REDUCE', 'REDUCE', 'REDUCE', 'SHIFT', 'SHIFT', 'REDUCE', 'REDUCE', 'REDUCE', 'REDUCE', 'SHIFT', 'SHIFT', 'REDUCE', 'REDUCE', 'REDUCE', 'REDUCE', 'SHIFT', 'SHIFT', 'REDUCE', 'REDUCE', 'REDUCE', 'REDUCE', 'SHIFT', 'SHIFT', 'REDUCE', 'REDUCE', 'REDUCE', 'REDUCE', 'SHIFT', 'SHIFT', 'REDUCE', 'REDUCE', 'REDUCE', 'REDUCE', 'SHIFT', 'SHIFT', 'REDUCE', 'REDUCE', 'REDUCE', 'REDUCE', 'SHIFT', 'SHIFT', 'REDUCE', 'REDUCE', 'REDUCE', 'REDUCE', 'SHIFT', 'SHIFT', 'REDUCE', 'REDUCE', 'REDUCE', 'REDUCE', 'SHIFT', 'REDUCE', 'REDUCE', 'SHIFT', 'REDUCE', 'REDUCE', 'REDUCE']\n",
      "<Lexer.regex.ConcatNode object at 0x7bf547f4bc50>\n",
      "<Lexer.nfa_dfa.NFA object at 0x7bf547f4b770>\n",
      "<Lexer.nfa_dfa.DFA object at 0x7bf547f4bb60>\n",
      "[symbol: f, symbol: o, symbol: r, $: $]\n",
      "[A -> symbol, F -> A, T -> F, A -> symbol, F -> A, T -> T F, A -> symbol, F -> A, T -> T F, E -> T]\n",
      "['SHIFT', 'REDUCE', 'REDUCE', 'REDUCE', 'SHIFT', 'REDUCE', 'REDUCE', 'REDUCE', 'SHIFT', 'REDUCE', 'REDUCE', 'REDUCE', 'REDUCE']\n",
      "<Lexer.regex.ConcatNode object at 0x7bf547f4b200>\n",
      "<Lexer.nfa_dfa.NFA object at 0x7bf547f4b920>\n",
      "<Lexer.nfa_dfa.DFA object at 0x7bf547f4adb0>\n",
      "[symbol: f, symbol: o, symbol: r, symbol: e, symbol: a, symbol: c, symbol: h, $: $]\n",
      "[A -> symbol, F -> A, T -> F, A -> symbol, F -> A, T -> T F, A -> symbol, F -> A, T -> T F, A -> symbol, F -> A, T -> T F, A -> symbol, F -> A, T -> T F, A -> symbol, F -> A, T -> T F, A -> symbol, F -> A, T -> T F, E -> T]\n",
      "['SHIFT', 'REDUCE', 'REDUCE', 'REDUCE', 'SHIFT', 'REDUCE', 'REDUCE', 'REDUCE', 'SHIFT', 'REDUCE', 'REDUCE', 'REDUCE', 'SHIFT', 'REDUCE', 'REDUCE', 'REDUCE', 'SHIFT', 'REDUCE', 'REDUCE', 'REDUCE', 'SHIFT', 'REDUCE', 'REDUCE', 'REDUCE', 'SHIFT', 'REDUCE', 'REDUCE', 'REDUCE', 'REDUCE']\n",
      "<Lexer.regex.ConcatNode object at 0x7bf547f78170>\n",
      "<Lexer.nfa_dfa.NFA object at 0x7bf547f79d30>\n",
      "<Lexer.nfa_dfa.DFA object at 0x7bf547f7a0c0>\n",
      "[(: (, symbol: a, |: |, symbol: b, |: |, symbol: c, |: |, symbol: d, |: |, symbol: e, |: |, symbol: f, |: |, symbol: g, |: |, symbol: h, |: |, symbol: i, |: |, symbol: j, |: |, symbol: k, |: |, symbol: l, |: |, symbol: m, |: |, symbol: n, |: |, symbol: o, |: |, symbol: p, |: |, symbol: q, |: |, symbol: r, |: |, symbol: s, |: |, symbol: t, |: |, symbol: u, |: |, symbol: v, |: |, symbol: w, |: |, symbol: x, |: |, symbol: y, |: |, symbol: z, ): ), (: (, symbol: a, |: |, symbol: b, |: |, symbol: c, |: |, symbol: d, |: |, symbol: e, |: |, symbol: f, |: |, symbol: g, |: |, symbol: h, |: |, symbol: i, |: |, symbol: j, |: |, symbol: k, |: |, symbol: l, |: |, symbol: m, |: |, symbol: n, |: |, symbol: o, |: |, symbol: p, |: |, symbol: q, |: |, symbol: r, |: |, symbol: s, |: |, symbol: t, |: |, symbol: u, |: |, symbol: v, |: |, symbol: w, |: |, symbol: x, |: |, symbol: y, |: |, symbol: z, |: |, symbol: 0, |: |, symbol: 1, |: |, symbol: 2, |: |, symbol: 3, |: |, symbol: 4, |: |, symbol: 5, |: |, symbol: 6, |: |, symbol: 7, |: |, symbol: 8, |: |, symbol: 9, ): ), *: *, $: $]\n",
      "[A -> symbol, F -> A, T -> F, E -> T, A -> symbol, F -> A, T -> F, E -> E | T, A -> symbol, F -> A, T -> F, E -> E | T, A -> symbol, F -> A, T -> F, E -> E | T, A -> symbol, F -> A, T -> F, E -> E | T, A -> symbol, F -> A, T -> F, E -> E | T, A -> symbol, F -> A, T -> F, E -> E | T, A -> symbol, F -> A, T -> F, E -> E | T, A -> symbol, F -> A, T -> F, E -> E | T, A -> symbol, F -> A, T -> F, E -> E | T, A -> symbol, F -> A, T -> F, E -> E | T, A -> symbol, F -> A, T -> F, E -> E | T, A -> symbol, F -> A, T -> F, E -> E | T, A -> symbol, F -> A, T -> F, E -> E | T, A -> symbol, F -> A, T -> F, E -> E | T, A -> symbol, F -> A, T -> F, E -> E | T, A -> symbol, F -> A, T -> F, E -> E | T, A -> symbol, F -> A, T -> F, E -> E | T, A -> symbol, F -> A, T -> F, E -> E | T, A -> symbol, F -> A, T -> F, E -> E | T, A -> symbol, F -> A, T -> F, E -> E | T, A -> symbol, F -> A, T -> F, E -> E | T, A -> symbol, F -> A, T -> F, E -> E | T, A -> symbol, F -> A, T -> F, E -> E | T, A -> symbol, F -> A, T -> F, E -> E | T, A -> symbol, F -> A, T -> F, E -> E | T, A -> ( E ), F -> A, T -> F, A -> symbol, F -> A, T -> F, E -> T, A -> symbol, F -> A, T -> F, E -> E | T, A -> symbol, F -> A, T -> F, E -> E | T, A -> symbol, F -> A, T -> F, E -> E | T, A -> symbol, F -> A, T -> F, E -> E | T, A -> symbol, F -> A, T -> F, E -> E | T, A -> symbol, F -> A, T -> F, E -> E | T, A -> symbol, F -> A, T -> F, E -> E | T, A -> symbol, F -> A, T -> F, E -> E | T, A -> symbol, F -> A, T -> F, E -> E | T, A -> symbol, F -> A, T -> F, E -> E | T, A -> symbol, F -> A, T -> F, E -> E | T, A -> symbol, F -> A, T -> F, E -> E | T, A -> symbol, F -> A, T -> F, E -> E | T, A -> symbol, F -> A, T -> F, E -> E | T, A -> symbol, F -> A, T -> F, E -> E | T, A -> symbol, F -> A, T -> F, E -> E | T, A -> symbol, F -> A, T -> F, E -> E | T, A -> symbol, F -> A, T -> F, E -> E | T, A -> symbol, F -> A, T -> F, E -> E | T, A -> symbol, F -> A, T -> F, E -> E | T, A -> symbol, F -> A, T -> F, E -> E | T, A -> symbol, F -> A, T -> F, E -> E | T, A -> symbol, F -> A, T -> F, E -> E | T, A -> symbol, F -> A, T -> F, E -> E | T, A -> symbol, F -> A, T -> F, E -> E | T, A -> symbol, F -> A, T -> F, E -> E | T, A -> symbol, F -> A, T -> F, E -> E | T, A -> symbol, F -> A, T -> F, E -> E | T, A -> symbol, F -> A, T -> F, E -> E | T, A -> symbol, F -> A, T -> F, E -> E | T, A -> symbol, F -> A, T -> F, E -> E | T, A -> symbol, F -> A, T -> F, E -> E | T, A -> symbol, F -> A, T -> F, E -> E | T, A -> symbol, F -> A, T -> F, E -> E | T, A -> symbol, F -> A, T -> F, E -> E | T, A -> ( E ), F -> A, F -> F *, T -> T F, E -> T]\n",
      "['SHIFT', 'SHIFT', 'REDUCE', 'REDUCE', 'REDUCE', 'REDUCE', 'SHIFT', 'SHIFT', 'REDUCE', 'REDUCE', 'REDUCE', 'REDUCE', 'SHIFT', 'SHIFT', 'REDUCE', 'REDUCE', 'REDUCE', 'REDUCE', 'SHIFT', 'SHIFT', 'REDUCE', 'REDUCE', 'REDUCE', 'REDUCE', 'SHIFT', 'SHIFT', 'REDUCE', 'REDUCE', 'REDUCE', 'REDUCE', 'SHIFT', 'SHIFT', 'REDUCE', 'REDUCE', 'REDUCE', 'REDUCE', 'SHIFT', 'SHIFT', 'REDUCE', 'REDUCE', 'REDUCE', 'REDUCE', 'SHIFT', 'SHIFT', 'REDUCE', 'REDUCE', 'REDUCE', 'REDUCE', 'SHIFT', 'SHIFT', 'REDUCE', 'REDUCE', 'REDUCE', 'REDUCE', 'SHIFT', 'SHIFT', 'REDUCE', 'REDUCE', 'REDUCE', 'REDUCE', 'SHIFT', 'SHIFT', 'REDUCE', 'REDUCE', 'REDUCE', 'REDUCE', 'SHIFT', 'SHIFT', 'REDUCE', 'REDUCE', 'REDUCE', 'REDUCE', 'SHIFT', 'SHIFT', 'REDUCE', 'REDUCE', 'REDUCE', 'REDUCE', 'SHIFT', 'SHIFT', 'REDUCE', 'REDUCE', 'REDUCE', 'REDUCE', 'SHIFT', 'SHIFT', 'REDUCE', 'REDUCE', 'REDUCE', 'REDUCE', 'SHIFT', 'SHIFT', 'REDUCE', 'REDUCE', 'REDUCE', 'REDUCE', 'SHIFT', 'SHIFT', 'REDUCE', 'REDUCE', 'REDUCE', 'REDUCE', 'SHIFT', 'SHIFT', 'REDUCE', 'REDUCE', 'REDUCE', 'REDUCE', 'SHIFT', 'SHIFT', 'REDUCE', 'REDUCE', 'REDUCE', 'REDUCE', 'SHIFT', 'SHIFT', 'REDUCE', 'REDUCE', 'REDUCE', 'REDUCE', 'SHIFT', 'SHIFT', 'REDUCE', 'REDUCE', 'REDUCE', 'REDUCE', 'SHIFT', 'SHIFT', 'REDUCE', 'REDUCE', 'REDUCE', 'REDUCE', 'SHIFT', 'SHIFT', 'REDUCE', 'REDUCE', 'REDUCE', 'REDUCE', 'SHIFT', 'SHIFT', 'REDUCE', 'REDUCE', 'REDUCE', 'REDUCE', 'SHIFT', 'SHIFT', 'REDUCE', 'REDUCE', 'REDUCE', 'REDUCE', 'SHIFT', 'SHIFT', 'REDUCE', 'REDUCE', 'REDUCE', 'REDUCE', 'SHIFT', 'REDUCE', 'REDUCE', 'REDUCE', 'SHIFT', 'SHIFT', 'REDUCE', 'REDUCE', 'REDUCE', 'REDUCE', 'SHIFT', 'SHIFT', 'REDUCE', 'REDUCE', 'REDUCE', 'REDUCE', 'SHIFT', 'SHIFT', 'REDUCE', 'REDUCE', 'REDUCE', 'REDUCE', 'SHIFT', 'SHIFT', 'REDUCE', 'REDUCE', 'REDUCE', 'REDUCE', 'SHIFT', 'SHIFT', 'REDUCE', 'REDUCE', 'REDUCE', 'REDUCE', 'SHIFT', 'SHIFT', 'REDUCE', 'REDUCE', 'REDUCE', 'REDUCE', 'SHIFT', 'SHIFT', 'REDUCE', 'REDUCE', 'REDUCE', 'REDUCE', 'SHIFT', 'SHIFT', 'REDUCE', 'REDUCE', 'REDUCE', 'REDUCE', 'SHIFT', 'SHIFT', 'REDUCE', 'REDUCE', 'REDUCE', 'REDUCE', 'SHIFT', 'SHIFT', 'REDUCE', 'REDUCE', 'REDUCE', 'REDUCE', 'SHIFT', 'SHIFT', 'REDUCE', 'REDUCE', 'REDUCE', 'REDUCE', 'SHIFT', 'SHIFT', 'REDUCE', 'REDUCE', 'REDUCE', 'REDUCE', 'SHIFT', 'SHIFT', 'REDUCE', 'REDUCE', 'REDUCE', 'REDUCE', 'SHIFT', 'SHIFT', 'REDUCE', 'REDUCE', 'REDUCE', 'REDUCE', 'SHIFT', 'SHIFT', 'REDUCE', 'REDUCE', 'REDUCE', 'REDUCE', 'SHIFT', 'SHIFT', 'REDUCE', 'REDUCE', 'REDUCE', 'REDUCE', 'SHIFT', 'SHIFT', 'REDUCE', 'REDUCE', 'REDUCE', 'REDUCE', 'SHIFT', 'SHIFT', 'REDUCE', 'REDUCE', 'REDUCE', 'REDUCE', 'SHIFT', 'SHIFT', 'REDUCE', 'REDUCE', 'REDUCE', 'REDUCE', 'SHIFT', 'SHIFT', 'REDUCE', 'REDUCE', 'REDUCE', 'REDUCE', 'SHIFT', 'SHIFT', 'REDUCE', 'REDUCE', 'REDUCE', 'REDUCE', 'SHIFT', 'SHIFT', 'REDUCE', 'REDUCE', 'REDUCE', 'REDUCE', 'SHIFT', 'SHIFT', 'REDUCE', 'REDUCE', 'REDUCE', 'REDUCE', 'SHIFT', 'SHIFT', 'REDUCE', 'REDUCE', 'REDUCE', 'REDUCE', 'SHIFT', 'SHIFT', 'REDUCE', 'REDUCE', 'REDUCE', 'REDUCE', 'SHIFT', 'SHIFT', 'REDUCE', 'REDUCE', 'REDUCE', 'REDUCE', 'SHIFT', 'SHIFT', 'REDUCE', 'REDUCE', 'REDUCE', 'REDUCE', 'SHIFT', 'SHIFT', 'REDUCE', 'REDUCE', 'REDUCE', 'REDUCE', 'SHIFT', 'SHIFT', 'REDUCE', 'REDUCE', 'REDUCE', 'REDUCE', 'SHIFT', 'SHIFT', 'REDUCE', 'REDUCE', 'REDUCE', 'REDUCE', 'SHIFT', 'SHIFT', 'REDUCE', 'REDUCE', 'REDUCE', 'REDUCE', 'SHIFT', 'SHIFT', 'REDUCE', 'REDUCE', 'REDUCE', 'REDUCE', 'SHIFT', 'SHIFT', 'REDUCE', 'REDUCE', 'REDUCE', 'REDUCE', 'SHIFT', 'SHIFT', 'REDUCE', 'REDUCE', 'REDUCE', 'REDUCE', 'SHIFT', 'SHIFT', 'REDUCE', 'REDUCE', 'REDUCE', 'REDUCE', 'SHIFT', 'SHIFT', 'REDUCE', 'REDUCE', 'REDUCE', 'REDUCE', 'SHIFT', 'REDUCE', 'REDUCE', 'SHIFT', 'REDUCE', 'REDUCE', 'REDUCE']\n",
      "<Lexer.regex.ConcatNode object at 0x7bf547f90ec0>\n",
      "<Lexer.nfa_dfa.NFA object at 0x7bf547f4ad20>\n",
      "<Lexer.nfa_dfa.DFA object at 0x7bf547f91be0>\n"
     ]
    },
    {
     "ename": "KeyboardInterrupt",
     "evalue": "",
     "output_type": "error",
     "traceback": [
      "\u001b[0;31m---------------------------------------------------------------------------\u001b[0m",
      "\u001b[0;31mKeyboardInterrupt\u001b[0m                         Traceback (most recent call last)",
      "Cell \u001b[0;32mIn[1], line 20\u001b[0m\n\u001b[1;32m      9\u001b[0m lexer \u001b[38;5;241m=\u001b[39m Lexer([\n\u001b[1;32m     10\u001b[0m     (\u001b[38;5;124m'\u001b[39m\u001b[38;5;124mnum\u001b[39m\u001b[38;5;124m'\u001b[39m, \u001b[38;5;124mf\u001b[39m\u001b[38;5;124m'\u001b[39m\u001b[38;5;124m(\u001b[39m\u001b[38;5;132;01m{\u001b[39;00mnonzero_digits\u001b[38;5;132;01m}\u001b[39;00m\u001b[38;5;124m)(0|\u001b[39m\u001b[38;5;132;01m{\u001b[39;00mnonzero_digits\u001b[38;5;132;01m}\u001b[39;00m\u001b[38;5;124m)*\u001b[39m\u001b[38;5;124m'\u001b[39m),\n\u001b[1;32m     11\u001b[0m     (\u001b[38;5;124m'\u001b[39m\u001b[38;5;124mfor\u001b[39m\u001b[38;5;124m'\u001b[39m , \u001b[38;5;124m'\u001b[39m\u001b[38;5;124mfor\u001b[39m\u001b[38;5;124m'\u001b[39m),\n\u001b[0;32m   (...)\u001b[0m\n\u001b[1;32m     14\u001b[0m     (\u001b[38;5;124m'\u001b[39m\u001b[38;5;124mid\u001b[39m\u001b[38;5;124m'\u001b[39m, \u001b[38;5;124mf\u001b[39m\u001b[38;5;124m'\u001b[39m\u001b[38;5;124m(\u001b[39m\u001b[38;5;132;01m{\u001b[39;00mletters\u001b[38;5;132;01m}\u001b[39;00m\u001b[38;5;124m)(\u001b[39m\u001b[38;5;132;01m{\u001b[39;00mletters\u001b[38;5;132;01m}\u001b[39;00m\u001b[38;5;124m|0|\u001b[39m\u001b[38;5;132;01m{\u001b[39;00mnonzero_digits\u001b[38;5;132;01m}\u001b[39;00m\u001b[38;5;124m)*\u001b[39m\u001b[38;5;124m'\u001b[39m)\n\u001b[1;32m     15\u001b[0m ], \u001b[38;5;124m'\u001b[39m\u001b[38;5;124meof\u001b[39m\u001b[38;5;124m'\u001b[39m)\n\u001b[1;32m     18\u001b[0m text \u001b[38;5;241m=\u001b[39m \u001b[38;5;124m'\u001b[39m\u001b[38;5;124m5465 for 45foreach fore\u001b[39m\u001b[38;5;124m'\u001b[39m\n\u001b[0;32m---> 20\u001b[0m tokens \u001b[38;5;241m=\u001b[39m \u001b[43mlexer\u001b[49m\u001b[43m(\u001b[49m\u001b[43mtext\u001b[49m\u001b[43m)\u001b[49m\n\u001b[1;32m     22\u001b[0m \u001b[38;5;28mprint\u001b[39m(tokens)\n\u001b[1;32m     23\u001b[0m \u001b[38;5;28;01massert\u001b[39;00m [t\u001b[38;5;241m.\u001b[39mtoken_type \u001b[38;5;28;01mfor\u001b[39;00m t \u001b[38;5;129;01min\u001b[39;00m tokens] \u001b[38;5;241m==\u001b[39m [\u001b[38;5;124m'\u001b[39m\u001b[38;5;124mnum\u001b[39m\u001b[38;5;124m'\u001b[39m, \u001b[38;5;124m'\u001b[39m\u001b[38;5;124mspace\u001b[39m\u001b[38;5;124m'\u001b[39m, \u001b[38;5;124m'\u001b[39m\u001b[38;5;124mfor\u001b[39m\u001b[38;5;124m'\u001b[39m, \u001b[38;5;124m'\u001b[39m\u001b[38;5;124mspace\u001b[39m\u001b[38;5;124m'\u001b[39m, \u001b[38;5;124m'\u001b[39m\u001b[38;5;124mnum\u001b[39m\u001b[38;5;124m'\u001b[39m, \u001b[38;5;124m'\u001b[39m\u001b[38;5;124mforeach\u001b[39m\u001b[38;5;124m'\u001b[39m, \u001b[38;5;124m'\u001b[39m\u001b[38;5;124mspace\u001b[39m\u001b[38;5;124m'\u001b[39m, \u001b[38;5;124m'\u001b[39m\u001b[38;5;124mid\u001b[39m\u001b[38;5;124m'\u001b[39m, \u001b[38;5;124m'\u001b[39m\u001b[38;5;124meof\u001b[39m\u001b[38;5;124m'\u001b[39m]\n",
      "File \u001b[0;32m~/Study/Compilation/HULK_Compiler/Lexer/lexer.py:121\u001b[0m, in \u001b[0;36mLexer.__call__\u001b[0;34m(self, text)\u001b[0m\n\u001b[1;32m    120\u001b[0m \u001b[38;5;28;01mdef\u001b[39;00m \u001b[38;5;21m__call__\u001b[39m(\u001b[38;5;28mself\u001b[39m, text):\n\u001b[0;32m--> 121\u001b[0m     \u001b[38;5;28;01mreturn\u001b[39;00m \u001b[43m[\u001b[49m\u001b[43m \u001b[49m\u001b[43mToken\u001b[49m\u001b[43m(\u001b[49m\u001b[43mlex\u001b[49m\u001b[43m,\u001b[49m\u001b[43m \u001b[49m\u001b[43mttype\u001b[49m\u001b[43m,\u001b[49m\u001b[43mline\u001b[49m\u001b[43m,\u001b[49m\u001b[43mcolumn\u001b[49m\u001b[43m)\u001b[49m\u001b[43m \u001b[49m\u001b[38;5;28;43;01mfor\u001b[39;49;00m\u001b[43m \u001b[49m\u001b[43mlex\u001b[49m\u001b[43m,\u001b[49m\u001b[43m \u001b[49m\u001b[43mttype\u001b[49m\u001b[43m,\u001b[49m\u001b[43mline\u001b[49m\u001b[43m,\u001b[49m\u001b[43mcolumn\u001b[49m\u001b[43m \u001b[49m\u001b[38;5;129;43;01min\u001b[39;49;00m\u001b[43m \u001b[49m\u001b[38;5;28;43mself\u001b[39;49m\u001b[38;5;241;43m.\u001b[39;49m\u001b[43m_tokenize\u001b[49m\u001b[43m(\u001b[49m\u001b[43mtext\u001b[49m\u001b[43m)\u001b[49m\u001b[43m \u001b[49m\u001b[43m]\u001b[49m\n",
      "File \u001b[0;32m~/Study/Compilation/HULK_Compiler/Lexer/lexer.py:77\u001b[0m, in \u001b[0;36mLexer._tokenize\u001b[0;34m(self, text)\u001b[0m\n\u001b[1;32m     74\u001b[0m \u001b[38;5;28;01mwhile\u001b[39;00m text:\n\u001b[1;32m     76\u001b[0m     \u001b[38;5;28;01mtry\u001b[39;00m:\n\u001b[0;32m---> 77\u001b[0m         final, TokenLex \u001b[38;5;241m=\u001b[39m \u001b[38;5;28;43mself\u001b[39;49m\u001b[38;5;241;43m.\u001b[39;49m\u001b[43m_walk\u001b[49m\u001b[43m(\u001b[49m\u001b[43mremaining_text\u001b[49m\u001b[43m)\u001b[49m\n\u001b[1;32m     78\u001b[0m     \u001b[38;5;28;01mexcept\u001b[39;00m \u001b[38;5;167;01mTypeError\u001b[39;00m:\n\u001b[1;32m     79\u001b[0m         \u001b[38;5;28;01mraise\u001b[39;00m \u001b[38;5;167;01mException\u001b[39;00m(\u001b[38;5;124mf\u001b[39m\u001b[38;5;124m\"\u001b[39m\u001b[38;5;124mLexer Exception: Token \u001b[39m\u001b[38;5;124m'\u001b[39m\u001b[38;5;132;01m{\u001b[39;00mremaining_text[\u001b[38;5;241m0\u001b[39m]\u001b[38;5;132;01m}\u001b[39;00m\u001b[38;5;124m'\u001b[39m\u001b[38;5;124m is not valid. (\u001b[39m\u001b[38;5;132;01m{\u001b[39;00mline\u001b[38;5;132;01m}\u001b[39;00m\u001b[38;5;124m,\u001b[39m\u001b[38;5;132;01m{\u001b[39;00mcolumn\u001b[38;5;132;01m}\u001b[39;00m\u001b[38;5;124m)\u001b[39m\u001b[38;5;124m\"\u001b[39m)\n",
      "File \u001b[0;32m~/Study/Compilation/HULK_Compiler/Lexer/lexer.py:41\u001b[0m, in \u001b[0;36mLexer._walk\u001b[0;34m(self, string)\u001b[0m\n\u001b[1;32m     37\u001b[0m final_lex \u001b[38;5;241m=\u001b[39m lex \u001b[38;5;241m=\u001b[39m\u001b[38;5;124m'\u001b[39m\u001b[38;5;124m'\u001b[39m\n\u001b[1;32m     39\u001b[0m \u001b[38;5;28;01mfor\u001b[39;00m symbol \u001b[38;5;129;01min\u001b[39;00m string:\n\u001b[1;32m     40\u001b[0m     \u001b[38;5;66;03m# Your code here!!!\u001b[39;00m\n\u001b[0;32m---> 41\u001b[0m     \u001b[38;5;28;01mif\u001b[39;00m \u001b[43mstate\u001b[49m\u001b[38;5;241;43m.\u001b[39;49m\u001b[43mhas_transition\u001b[49m\u001b[43m(\u001b[49m\u001b[43msymbol\u001b[49m\u001b[43m)\u001b[49m:\n\u001b[1;32m     42\u001b[0m         final_lex \u001b[38;5;241m+\u001b[39m\u001b[38;5;241m=\u001b[39m symbol\n\u001b[1;32m     43\u001b[0m         state \u001b[38;5;241m=\u001b[39m state[symbol][\u001b[38;5;241m0\u001b[39m]\n",
      "File \u001b[0;32m~/Study/Compilation/HULK_Compiler/cmp/automata.py:32\u001b[0m, in \u001b[0;36mState.has_transition\u001b[0;34m(self, symbol)\u001b[0m\n\u001b[1;32m     29\u001b[0m         node\u001b[38;5;241m.\u001b[39mset_formatter(value, attr, visited)\n\u001b[1;32m     30\u001b[0m     \u001b[38;5;28;01mreturn\u001b[39;00m \u001b[38;5;28mself\u001b[39m\n\u001b[0;32m---> 32\u001b[0m \u001b[38;5;28;01mdef\u001b[39;00m \u001b[38;5;21mhas_transition\u001b[39m(\u001b[38;5;28mself\u001b[39m, symbol):\n\u001b[1;32m     33\u001b[0m     \u001b[38;5;28;01mreturn\u001b[39;00m symbol \u001b[38;5;129;01min\u001b[39;00m \u001b[38;5;28mself\u001b[39m\u001b[38;5;241m.\u001b[39mtransitions\n\u001b[1;32m     35\u001b[0m \u001b[38;5;28;01mdef\u001b[39;00m \u001b[38;5;21madd_transition\u001b[39m(\u001b[38;5;28mself\u001b[39m, symbol, state):\n",
      "\u001b[0;31mKeyboardInterrupt\u001b[0m: "
     ]
    }
   ],
   "source": [
    "from Lexer.lexer import Lexer\n",
    "\n",
    "\n",
    "\n",
    "nonzero_digits = '|'.join(str(n) for n in range(1,10))\n",
    "letters = '|'.join(chr(n) for n in range(ord('a'),ord('z')+1))\n",
    "\n",
    "\n",
    "lexer = Lexer([\n",
    "    ('num', f'({nonzero_digits})(0|{nonzero_digits})*'),\n",
    "    ('for' , 'for'),\n",
    "    ('foreach' , 'foreach'),\n",
    "    # ('space', '  *'),\n",
    "    ('id', f'({letters})({letters}|0|{nonzero_digits})*')\n",
    "], 'eof')\n",
    "\n",
    "\n",
    "text = '5465 for 45foreach fore'\n",
    "\n",
    "tokens = lexer(text)\n",
    "\n",
    "print(tokens)\n",
    "assert [t.token_type for t in tokens] == ['num', 'space', 'for', 'space', 'num', 'foreach', 'space', 'id', 'eof']\n",
    "assert [t.lex for t in tokens] == ['5465', ' ', 'for', ' ', '45', 'foreach', ' ', 'fore', '$']\n",
    "\n",
    "text = '4forense forforeach for4foreach foreach 4for'\n",
    "print(f'\\n>>> Tokenizando: \"{text}\"')\n",
    "tokens = lexer(text)\n",
    "print(tokens)\n",
    "assert [t.token_type for t in tokens] == ['num', 'id', 'space', 'id', 'space', 'id', 'space', 'foreach', 'space', 'num', 'for', 'eof']\n",
    "assert [t.lex for t in tokens] == ['4', 'forense', ' ', 'forforeach', ' ', 'for4foreach', ' ', 'foreach', ' ', '4', 'for', '$']"
   ]
  }
 ],
 "metadata": {
  "kernelspec": {
   "display_name": "myenv",
   "language": "python",
   "name": "python3"
  },
  "language_info": {
   "codemirror_mode": {
    "name": "ipython",
    "version": 3
   },
   "file_extension": ".py",
   "mimetype": "text/x-python",
   "name": "python",
   "nbconvert_exporter": "python",
   "pygments_lexer": "ipython3",
   "version": "3.12.3"
  }
 },
 "nbformat": 4,
 "nbformat_minor": 2
}

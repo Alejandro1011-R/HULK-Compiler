{
 "cells": [
  {
   "cell_type": "code",
   "execution_count": 1,
   "metadata": {},
   "outputs": [
    {
     "name": "stdout",
     "output_type": "stream",
     "text": [
      "[(: (, symbol: 1, |: |, symbol: 2, |: |, symbol: 3, |: |, symbol: 4, |: |, symbol: 5, |: |, symbol: 6, |: |, symbol: 7, |: |, symbol: 8, |: |, symbol: 9, ): ), (: (, symbol: 0, |: |, symbol: 1, |: |, symbol: 2, |: |, symbol: 3, |: |, symbol: 4, |: |, symbol: 5, |: |, symbol: 6, |: |, symbol: 7, |: |, symbol: 8, |: |, symbol: 9, ): ), *: *, $: $]\n",
      "[A -> symbol, F -> A, T -> F, E -> T, A -> symbol, F -> A, T -> F, E -> E | T, A -> symbol, F -> A, T -> F, E -> E | T, A -> symbol, F -> A, T -> F, E -> E | T, A -> symbol, F -> A, T -> F, E -> E | T, A -> symbol, F -> A, T -> F, E -> E | T, A -> symbol, F -> A, T -> F, E -> E | T, A -> symbol, F -> A, T -> F, E -> E | T, A -> symbol, F -> A, T -> F, E -> E | T, A -> ( E ), F -> A, T -> F, A -> symbol, F -> A, T -> F, E -> T, A -> symbol, F -> A, T -> F, E -> E | T, A -> symbol, F -> A, T -> F, E -> E | T, A -> symbol, F -> A, T -> F, E -> E | T, A -> symbol, F -> A, T -> F, E -> E | T, A -> symbol, F -> A, T -> F, E -> E | T, A -> symbol, F -> A, T -> F, E -> E | T, A -> symbol, F -> A, T -> F, E -> E | T, A -> symbol, F -> A, T -> F, E -> E | T, A -> symbol, F -> A, T -> F, E -> E | T, A -> ( E ), F -> A, F -> F *, T -> T F, E -> T]\n",
      "['SHIFT', 'SHIFT', 'REDUCE', 'REDUCE', 'REDUCE', 'REDUCE', 'SHIFT', 'SHIFT', 'REDUCE', 'REDUCE', 'REDUCE', 'REDUCE', 'SHIFT', 'SHIFT', 'REDUCE', 'REDUCE', 'REDUCE', 'REDUCE', 'SHIFT', 'SHIFT', 'REDUCE', 'REDUCE', 'REDUCE', 'REDUCE', 'SHIFT', 'SHIFT', 'REDUCE', 'REDUCE', 'REDUCE', 'REDUCE', 'SHIFT', 'SHIFT', 'REDUCE', 'REDUCE', 'REDUCE', 'REDUCE', 'SHIFT', 'SHIFT', 'REDUCE', 'REDUCE', 'REDUCE', 'REDUCE', 'SHIFT', 'SHIFT', 'REDUCE', 'REDUCE', 'REDUCE', 'REDUCE', 'SHIFT', 'SHIFT', 'REDUCE', 'REDUCE', 'REDUCE', 'REDUCE', 'SHIFT', 'REDUCE', 'REDUCE', 'REDUCE', 'SHIFT', 'SHIFT', 'REDUCE', 'REDUCE', 'REDUCE', 'REDUCE', 'SHIFT', 'SHIFT', 'REDUCE', 'REDUCE', 'REDUCE', 'REDUCE', 'SHIFT', 'SHIFT', 'REDUCE', 'REDUCE', 'REDUCE', 'REDUCE', 'SHIFT', 'SHIFT', 'REDUCE', 'REDUCE', 'REDUCE', 'REDUCE', 'SHIFT', 'SHIFT', 'REDUCE', 'REDUCE', 'REDUCE', 'REDUCE', 'SHIFT', 'SHIFT', 'REDUCE', 'REDUCE', 'REDUCE', 'REDUCE', 'SHIFT', 'SHIFT', 'REDUCE', 'REDUCE', 'REDUCE', 'REDUCE', 'SHIFT', 'SHIFT', 'REDUCE', 'REDUCE', 'REDUCE', 'REDUCE', 'SHIFT', 'SHIFT', 'REDUCE', 'REDUCE', 'REDUCE', 'REDUCE', 'SHIFT', 'SHIFT', 'REDUCE', 'REDUCE', 'REDUCE', 'REDUCE', 'SHIFT', 'REDUCE', 'REDUCE', 'SHIFT', 'REDUCE', 'REDUCE', 'REDUCE']\n",
      "<Lexer.regex.ConcatNode object at 0x7d91b044bbc0>\n",
      "<Lexer.nfa_dfa.NFA object at 0x7d91b044b0b0>\n",
      "<Lexer.nfa_dfa.DFA object at 0x7d91b044b6e0>\n",
      "[symbol: f, symbol: o, symbol: r, $: $]\n",
      "[A -> symbol, F -> A, T -> F, A -> symbol, F -> A, T -> T F, A -> symbol, F -> A, T -> T F, E -> T]\n",
      "['SHIFT', 'REDUCE', 'REDUCE', 'REDUCE', 'SHIFT', 'REDUCE', 'REDUCE', 'REDUCE', 'SHIFT', 'REDUCE', 'REDUCE', 'REDUCE', 'REDUCE']\n",
      "<Lexer.regex.ConcatNode object at 0x7d91b044a1e0>\n",
      "<Lexer.nfa_dfa.NFA object at 0x7d91b044af30>\n",
      "<Lexer.nfa_dfa.DFA object at 0x7d91b044a150>\n",
      "[symbol: f, symbol: o, symbol: r, symbol: e, symbol: a, symbol: c, symbol: h, $: $]\n",
      "[A -> symbol, F -> A, T -> F, A -> symbol, F -> A, T -> T F, A -> symbol, F -> A, T -> T F, A -> symbol, F -> A, T -> T F, A -> symbol, F -> A, T -> T F, A -> symbol, F -> A, T -> T F, A -> symbol, F -> A, T -> T F, E -> T]\n",
      "['SHIFT', 'REDUCE', 'REDUCE', 'REDUCE', 'SHIFT', 'REDUCE', 'REDUCE', 'REDUCE', 'SHIFT', 'REDUCE', 'REDUCE', 'REDUCE', 'SHIFT', 'REDUCE', 'REDUCE', 'REDUCE', 'SHIFT', 'REDUCE', 'REDUCE', 'REDUCE', 'SHIFT', 'REDUCE', 'REDUCE', 'REDUCE', 'SHIFT', 'REDUCE', 'REDUCE', 'REDUCE', 'REDUCE']\n",
      "<Lexer.regex.ConcatNode object at 0x7d91b046c980>\n",
      "<Lexer.nfa_dfa.NFA object at 0x7d91b046e4b0>\n",
      "<Lexer.nfa_dfa.DFA object at 0x7d91b046e810>\n",
      "[symbol:  , symbol:  , *: *, $: $]\n",
      "[A -> symbol, F -> A, T -> F, A -> symbol, F -> A, F -> F *, T -> T F, E -> T]\n",
      "['SHIFT', 'REDUCE', 'REDUCE', 'REDUCE', 'SHIFT', 'REDUCE', 'REDUCE', 'SHIFT', 'REDUCE', 'REDUCE', 'REDUCE']\n",
      "<Lexer.regex.ConcatNode object at 0x7d91b044b140>\n",
      "<Lexer.nfa_dfa.NFA object at 0x7d91b044b530>\n",
      "<Lexer.nfa_dfa.DFA object at 0x7d91b044bb30>\n",
      "[(: (, symbol: a, |: |, symbol: b, |: |, symbol: c, |: |, symbol: d, |: |, symbol: e, |: |, symbol: f, |: |, symbol: g, |: |, symbol: h, |: |, symbol: i, |: |, symbol: j, |: |, symbol: k, |: |, symbol: l, |: |, symbol: m, |: |, symbol: n, |: |, symbol: o, |: |, symbol: p, |: |, symbol: q, |: |, symbol: r, |: |, symbol: s, |: |, symbol: t, |: |, symbol: u, |: |, symbol: v, |: |, symbol: w, |: |, symbol: x, |: |, symbol: y, |: |, symbol: z, ): ), (: (, symbol: a, |: |, symbol: b, |: |, symbol: c, |: |, symbol: d, |: |, symbol: e, |: |, symbol: f, |: |, symbol: g, |: |, symbol: h, |: |, symbol: i, |: |, symbol: j, |: |, symbol: k, |: |, symbol: l, |: |, symbol: m, |: |, symbol: n, |: |, symbol: o, |: |, symbol: p, |: |, symbol: q, |: |, symbol: r, |: |, symbol: s, |: |, symbol: t, |: |, symbol: u, |: |, symbol: v, |: |, symbol: w, |: |, symbol: x, |: |, symbol: y, |: |, symbol: z, |: |, symbol: 0, |: |, symbol: 1, |: |, symbol: 2, |: |, symbol: 3, |: |, symbol: 4, |: |, symbol: 5, |: |, symbol: 6, |: |, symbol: 7, |: |, symbol: 8, |: |, symbol: 9, ): ), *: *, $: $]\n",
      "[A -> symbol, F -> A, T -> F, E -> T, A -> symbol, F -> A, T -> F, E -> E | T, A -> symbol, F -> A, T -> F, E -> E | T, A -> symbol, F -> A, T -> F, E -> E | T, A -> symbol, F -> A, T -> F, E -> E | T, A -> symbol, F -> A, T -> F, E -> E | T, A -> symbol, F -> A, T -> F, E -> E | T, A -> symbol, F -> A, T -> F, E -> E | T, A -> symbol, F -> A, T -> F, E -> E | T, A -> symbol, F -> A, T -> F, E -> E | T, A -> symbol, F -> A, T -> F, E -> E | T, A -> symbol, F -> A, T -> F, E -> E | T, A -> symbol, F -> A, T -> F, E -> E | T, A -> symbol, F -> A, T -> F, E -> E | T, A -> symbol, F -> A, T -> F, E -> E | T, A -> symbol, F -> A, T -> F, E -> E | T, A -> symbol, F -> A, T -> F, E -> E | T, A -> symbol, F -> A, T -> F, E -> E | T, A -> symbol, F -> A, T -> F, E -> E | T, A -> symbol, F -> A, T -> F, E -> E | T, A -> symbol, F -> A, T -> F, E -> E | T, A -> symbol, F -> A, T -> F, E -> E | T, A -> symbol, F -> A, T -> F, E -> E | T, A -> symbol, F -> A, T -> F, E -> E | T, A -> symbol, F -> A, T -> F, E -> E | T, A -> symbol, F -> A, T -> F, E -> E | T, A -> ( E ), F -> A, T -> F, A -> symbol, F -> A, T -> F, E -> T, A -> symbol, F -> A, T -> F, E -> E | T, A -> symbol, F -> A, T -> F, E -> E | T, A -> symbol, F -> A, T -> F, E -> E | T, A -> symbol, F -> A, T -> F, E -> E | T, A -> symbol, F -> A, T -> F, E -> E | T, A -> symbol, F -> A, T -> F, E -> E | T, A -> symbol, F -> A, T -> F, E -> E | T, A -> symbol, F -> A, T -> F, E -> E | T, A -> symbol, F -> A, T -> F, E -> E | T, A -> symbol, F -> A, T -> F, E -> E | T, A -> symbol, F -> A, T -> F, E -> E | T, A -> symbol, F -> A, T -> F, E -> E | T, A -> symbol, F -> A, T -> F, E -> E | T, A -> symbol, F -> A, T -> F, E -> E | T, A -> symbol, F -> A, T -> F, E -> E | T, A -> symbol, F -> A, T -> F, E -> E | T, A -> symbol, F -> A, T -> F, E -> E | T, A -> symbol, F -> A, T -> F, E -> E | T, A -> symbol, F -> A, T -> F, E -> E | T, A -> symbol, F -> A, T -> F, E -> E | T, A -> symbol, F -> A, T -> F, E -> E | T, A -> symbol, F -> A, T -> F, E -> E | T, A -> symbol, F -> A, T -> F, E -> E | T, A -> symbol, F -> A, T -> F, E -> E | T, A -> symbol, F -> A, T -> F, E -> E | T, A -> symbol, F -> A, T -> F, E -> E | T, A -> symbol, F -> A, T -> F, E -> E | T, A -> symbol, F -> A, T -> F, E -> E | T, A -> symbol, F -> A, T -> F, E -> E | T, A -> symbol, F -> A, T -> F, E -> E | T, A -> symbol, F -> A, T -> F, E -> E | T, A -> symbol, F -> A, T -> F, E -> E | T, A -> symbol, F -> A, T -> F, E -> E | T, A -> symbol, F -> A, T -> F, E -> E | T, A -> symbol, F -> A, T -> F, E -> E | T, A -> ( E ), F -> A, F -> F *, T -> T F, E -> T]\n",
      "['SHIFT', 'SHIFT', 'REDUCE', 'REDUCE', 'REDUCE', 'REDUCE', 'SHIFT', 'SHIFT', 'REDUCE', 'REDUCE', 'REDUCE', 'REDUCE', 'SHIFT', 'SHIFT', 'REDUCE', 'REDUCE', 'REDUCE', 'REDUCE', 'SHIFT', 'SHIFT', 'REDUCE', 'REDUCE', 'REDUCE', 'REDUCE', 'SHIFT', 'SHIFT', 'REDUCE', 'REDUCE', 'REDUCE', 'REDUCE', 'SHIFT', 'SHIFT', 'REDUCE', 'REDUCE', 'REDUCE', 'REDUCE', 'SHIFT', 'SHIFT', 'REDUCE', 'REDUCE', 'REDUCE', 'REDUCE', 'SHIFT', 'SHIFT', 'REDUCE', 'REDUCE', 'REDUCE', 'REDUCE', 'SHIFT', 'SHIFT', 'REDUCE', 'REDUCE', 'REDUCE', 'REDUCE', 'SHIFT', 'SHIFT', 'REDUCE', 'REDUCE', 'REDUCE', 'REDUCE', 'SHIFT', 'SHIFT', 'REDUCE', 'REDUCE', 'REDUCE', 'REDUCE', 'SHIFT', 'SHIFT', 'REDUCE', 'REDUCE', 'REDUCE', 'REDUCE', 'SHIFT', 'SHIFT', 'REDUCE', 'REDUCE', 'REDUCE', 'REDUCE', 'SHIFT', 'SHIFT', 'REDUCE', 'REDUCE', 'REDUCE', 'REDUCE', 'SHIFT', 'SHIFT', 'REDUCE', 'REDUCE', 'REDUCE', 'REDUCE', 'SHIFT', 'SHIFT', 'REDUCE', 'REDUCE', 'REDUCE', 'REDUCE', 'SHIFT', 'SHIFT', 'REDUCE', 'REDUCE', 'REDUCE', 'REDUCE', 'SHIFT', 'SHIFT', 'REDUCE', 'REDUCE', 'REDUCE', 'REDUCE', 'SHIFT', 'SHIFT', 'REDUCE', 'REDUCE', 'REDUCE', 'REDUCE', 'SHIFT', 'SHIFT', 'REDUCE', 'REDUCE', 'REDUCE', 'REDUCE', 'SHIFT', 'SHIFT', 'REDUCE', 'REDUCE', 'REDUCE', 'REDUCE', 'SHIFT', 'SHIFT', 'REDUCE', 'REDUCE', 'REDUCE', 'REDUCE', 'SHIFT', 'SHIFT', 'REDUCE', 'REDUCE', 'REDUCE', 'REDUCE', 'SHIFT', 'SHIFT', 'REDUCE', 'REDUCE', 'REDUCE', 'REDUCE', 'SHIFT', 'SHIFT', 'REDUCE', 'REDUCE', 'REDUCE', 'REDUCE', 'SHIFT', 'SHIFT', 'REDUCE', 'REDUCE', 'REDUCE', 'REDUCE', 'SHIFT', 'REDUCE', 'REDUCE', 'REDUCE', 'SHIFT', 'SHIFT', 'REDUCE', 'REDUCE', 'REDUCE', 'REDUCE', 'SHIFT', 'SHIFT', 'REDUCE', 'REDUCE', 'REDUCE', 'REDUCE', 'SHIFT', 'SHIFT', 'REDUCE', 'REDUCE', 'REDUCE', 'REDUCE', 'SHIFT', 'SHIFT', 'REDUCE', 'REDUCE', 'REDUCE', 'REDUCE', 'SHIFT', 'SHIFT', 'REDUCE', 'REDUCE', 'REDUCE', 'REDUCE', 'SHIFT', 'SHIFT', 'REDUCE', 'REDUCE', 'REDUCE', 'REDUCE', 'SHIFT', 'SHIFT', 'REDUCE', 'REDUCE', 'REDUCE', 'REDUCE', 'SHIFT', 'SHIFT', 'REDUCE', 'REDUCE', 'REDUCE', 'REDUCE', 'SHIFT', 'SHIFT', 'REDUCE', 'REDUCE', 'REDUCE', 'REDUCE', 'SHIFT', 'SHIFT', 'REDUCE', 'REDUCE', 'REDUCE', 'REDUCE', 'SHIFT', 'SHIFT', 'REDUCE', 'REDUCE', 'REDUCE', 'REDUCE', 'SHIFT', 'SHIFT', 'REDUCE', 'REDUCE', 'REDUCE', 'REDUCE', 'SHIFT', 'SHIFT', 'REDUCE', 'REDUCE', 'REDUCE', 'REDUCE', 'SHIFT', 'SHIFT', 'REDUCE', 'REDUCE', 'REDUCE', 'REDUCE', 'SHIFT', 'SHIFT', 'REDUCE', 'REDUCE', 'REDUCE', 'REDUCE', 'SHIFT', 'SHIFT', 'REDUCE', 'REDUCE', 'REDUCE', 'REDUCE', 'SHIFT', 'SHIFT', 'REDUCE', 'REDUCE', 'REDUCE', 'REDUCE', 'SHIFT', 'SHIFT', 'REDUCE', 'REDUCE', 'REDUCE', 'REDUCE', 'SHIFT', 'SHIFT', 'REDUCE', 'REDUCE', 'REDUCE', 'REDUCE', 'SHIFT', 'SHIFT', 'REDUCE', 'REDUCE', 'REDUCE', 'REDUCE', 'SHIFT', 'SHIFT', 'REDUCE', 'REDUCE', 'REDUCE', 'REDUCE', 'SHIFT', 'SHIFT', 'REDUCE', 'REDUCE', 'REDUCE', 'REDUCE', 'SHIFT', 'SHIFT', 'REDUCE', 'REDUCE', 'REDUCE', 'REDUCE', 'SHIFT', 'SHIFT', 'REDUCE', 'REDUCE', 'REDUCE', 'REDUCE', 'SHIFT', 'SHIFT', 'REDUCE', 'REDUCE', 'REDUCE', 'REDUCE', 'SHIFT', 'SHIFT', 'REDUCE', 'REDUCE', 'REDUCE', 'REDUCE', 'SHIFT', 'SHIFT', 'REDUCE', 'REDUCE', 'REDUCE', 'REDUCE', 'SHIFT', 'SHIFT', 'REDUCE', 'REDUCE', 'REDUCE', 'REDUCE', 'SHIFT', 'SHIFT', 'REDUCE', 'REDUCE', 'REDUCE', 'REDUCE', 'SHIFT', 'SHIFT', 'REDUCE', 'REDUCE', 'REDUCE', 'REDUCE', 'SHIFT', 'SHIFT', 'REDUCE', 'REDUCE', 'REDUCE', 'REDUCE', 'SHIFT', 'SHIFT', 'REDUCE', 'REDUCE', 'REDUCE', 'REDUCE', 'SHIFT', 'SHIFT', 'REDUCE', 'REDUCE', 'REDUCE', 'REDUCE', 'SHIFT', 'SHIFT', 'REDUCE', 'REDUCE', 'REDUCE', 'REDUCE', 'SHIFT', 'SHIFT', 'REDUCE', 'REDUCE', 'REDUCE', 'REDUCE', 'SHIFT', 'SHIFT', 'REDUCE', 'REDUCE', 'REDUCE', 'REDUCE', 'SHIFT', 'REDUCE', 'REDUCE', 'SHIFT', 'REDUCE', 'REDUCE', 'REDUCE']\n",
      "<Lexer.regex.ConcatNode object at 0x7d91b047d760>\n",
      "<Lexer.nfa_dfa.NFA object at 0x7d91b044a360>\n",
      "<Lexer.nfa_dfa.DFA object at 0x7d91b046faa0>\n",
      "[num: 54, num: 65, space:  , for: for, space:  , num: 45, foreach: foreach, space:  , for: for, id: e, eof: $]\n"
     ]
    },
    {
     "ename": "AssertionError",
     "evalue": "",
     "output_type": "error",
     "traceback": [
      "\u001b[0;31m---------------------------------------------------------------------------\u001b[0m",
      "\u001b[0;31mAssertionError\u001b[0m                            Traceback (most recent call last)",
      "Cell \u001b[0;32mIn[1], line 23\u001b[0m\n\u001b[1;32m     20\u001b[0m tokens \u001b[38;5;241m=\u001b[39m lexer(text)\n\u001b[1;32m     22\u001b[0m \u001b[38;5;28mprint\u001b[39m(tokens)\n\u001b[0;32m---> 23\u001b[0m \u001b[38;5;28;01massert\u001b[39;00m [t\u001b[38;5;241m.\u001b[39mtoken_type \u001b[38;5;28;01mfor\u001b[39;00m t \u001b[38;5;129;01min\u001b[39;00m tokens] \u001b[38;5;241m==\u001b[39m [\u001b[38;5;124m'\u001b[39m\u001b[38;5;124mnum\u001b[39m\u001b[38;5;124m'\u001b[39m, \u001b[38;5;124m'\u001b[39m\u001b[38;5;124mspace\u001b[39m\u001b[38;5;124m'\u001b[39m, \u001b[38;5;124m'\u001b[39m\u001b[38;5;124mfor\u001b[39m\u001b[38;5;124m'\u001b[39m, \u001b[38;5;124m'\u001b[39m\u001b[38;5;124mspace\u001b[39m\u001b[38;5;124m'\u001b[39m, \u001b[38;5;124m'\u001b[39m\u001b[38;5;124mnum\u001b[39m\u001b[38;5;124m'\u001b[39m, \u001b[38;5;124m'\u001b[39m\u001b[38;5;124mforeach\u001b[39m\u001b[38;5;124m'\u001b[39m, \u001b[38;5;124m'\u001b[39m\u001b[38;5;124mspace\u001b[39m\u001b[38;5;124m'\u001b[39m, \u001b[38;5;124m'\u001b[39m\u001b[38;5;124mid\u001b[39m\u001b[38;5;124m'\u001b[39m, \u001b[38;5;124m'\u001b[39m\u001b[38;5;124meof\u001b[39m\u001b[38;5;124m'\u001b[39m]\n\u001b[1;32m     24\u001b[0m \u001b[38;5;28;01massert\u001b[39;00m [t\u001b[38;5;241m.\u001b[39mlex \u001b[38;5;28;01mfor\u001b[39;00m t \u001b[38;5;129;01min\u001b[39;00m tokens] \u001b[38;5;241m==\u001b[39m [\u001b[38;5;124m'\u001b[39m\u001b[38;5;124m5465\u001b[39m\u001b[38;5;124m'\u001b[39m, \u001b[38;5;124m'\u001b[39m\u001b[38;5;124m \u001b[39m\u001b[38;5;124m'\u001b[39m, \u001b[38;5;124m'\u001b[39m\u001b[38;5;124mfor\u001b[39m\u001b[38;5;124m'\u001b[39m, \u001b[38;5;124m'\u001b[39m\u001b[38;5;124m \u001b[39m\u001b[38;5;124m'\u001b[39m, \u001b[38;5;124m'\u001b[39m\u001b[38;5;124m45\u001b[39m\u001b[38;5;124m'\u001b[39m, \u001b[38;5;124m'\u001b[39m\u001b[38;5;124mforeach\u001b[39m\u001b[38;5;124m'\u001b[39m, \u001b[38;5;124m'\u001b[39m\u001b[38;5;124m \u001b[39m\u001b[38;5;124m'\u001b[39m, \u001b[38;5;124m'\u001b[39m\u001b[38;5;124mfore\u001b[39m\u001b[38;5;124m'\u001b[39m, \u001b[38;5;124m'\u001b[39m\u001b[38;5;124m$\u001b[39m\u001b[38;5;124m'\u001b[39m]\n\u001b[1;32m     26\u001b[0m text \u001b[38;5;241m=\u001b[39m \u001b[38;5;124m'\u001b[39m\u001b[38;5;124m4forense forforeach for4foreach foreach 4for\u001b[39m\u001b[38;5;124m'\u001b[39m\n",
      "\u001b[0;31mAssertionError\u001b[0m: "
     ]
    }
   ],
   "source": [
    "from Lexer.lexer import Lexer\n",
    "\n",
    "\n",
    "\n",
    "nonzero_digits = '|'.join(str(n) for n in range(1,10))\n",
    "letters = '|'.join(chr(n) for n in range(ord('a'),ord('z')+1))\n",
    "\n",
    "\n",
    "lexer = Lexer([\n",
    "    ('num', f'({nonzero_digits})(0|{nonzero_digits})*'),\n",
    "    ('for' , 'for'),\n",
    "    ('foreach' , 'foreach'),\n",
    "    ('space', '  *'),\n",
    "    ('id', f'({letters})({letters}|0|{nonzero_digits})*')\n",
    "], 'eof')\n",
    "\n",
    "\n",
    "text = '5465 for 45foreach fore'\n",
    "\n",
    "tokens = lexer(text)\n",
    "\n",
    "print(tokens)\n",
    "assert [t.token_type for t in tokens] == ['num', 'space', 'for', 'space', 'num', 'foreach', 'space', 'id', 'eof']\n",
    "assert [t.lex for t in tokens] == ['5465', ' ', 'for', ' ', '45', 'foreach', ' ', 'fore', '$']\n",
    "\n",
    "text = '4forense forforeach for4foreach foreach 4for'\n",
    "print(f'\\n>>> Tokenizando: \"{text}\"')\n",
    "tokens = lexer(text)\n",
    "print(tokens)\n",
    "assert [t.token_type for t in tokens] == ['num', 'id', 'space', 'id', 'space', 'id', 'space', 'foreach', 'space', 'num', 'for', 'eof']\n",
    "assert [t.lex for t in tokens] == ['4', 'forense', ' ', 'forforeach', ' ', 'for4foreach', ' ', 'foreach', ' ', '4', 'for', '$']"
   ]
  }
 ],
 "metadata": {
  "kernelspec": {
   "display_name": "myenv",
   "language": "python",
   "name": "python3"
  },
  "language_info": {
   "codemirror_mode": {
    "name": "ipython",
    "version": 3
   },
   "file_extension": ".py",
   "mimetype": "text/x-python",
   "name": "python",
   "nbconvert_exporter": "python",
   "pygments_lexer": "ipython3",
   "version": "3.12.3"
  }
 },
 "nbformat": 4,
 "nbformat_minor": 2
}
